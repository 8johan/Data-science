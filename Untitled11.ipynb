{
  "nbformat": 4,
  "nbformat_minor": 0,
  "metadata": {
    "colab": {
      "provenance": [],
      "authorship_tag": "ABX9TyOxOEammCGH+kh9z6uhu0RF",
      "include_colab_link": true
    },
    "kernelspec": {
      "name": "python3",
      "display_name": "Python 3"
    },
    "language_info": {
      "name": "python"
    }
  },
  "cells": [
    {
      "cell_type": "markdown",
      "metadata": {
        "id": "view-in-github",
        "colab_type": "text"
      },
      "source": [
        "<a href=\"https://colab.research.google.com/github/yasinelehmiani/Data-science/blob/main/Untitled11.ipynb\" target=\"_parent\"><img src=\"https://colab.research.google.com/assets/colab-badge.svg\" alt=\"Open In Colab\"/></a>"
      ]
    },
    {
      "cell_type": "code",
      "source": [
        "import requests\n",
        "\n",
        "url = \"https://zenodo.org/records/1322001/files/training_set.zip\"\n",
        "response = requests.get(url)\n",
        "\n",
        "with open(\"train.zip\", \"wb\") as file:\n",
        "    file.write(response.content)"
      ],
      "metadata": {
        "id": "p18rV2ocQf7U"
      },
      "execution_count": 3,
      "outputs": []
    },
    {
      "cell_type": "code",
      "source": [
        "!unzip /content/train\n"
      ],
      "metadata": {
        "id": "9miUjQrgTk2I"
      },
      "execution_count": null,
      "outputs": []
    },
    {
      "cell_type": "code",
      "source": [
        "import cv2\n",
        "import numpy as np\n",
        "\n",
        "def turn_rectangles_white(image_path):\n",
        "    # Load the image\n",
        "    image = cv2.imread(image_path)\n",
        "\n",
        "    # Convert the image to grayscale\n",
        "    gray = cv2.cvtColor(image, cv2.COLOR_BGR2GRAY)\n",
        "\n",
        "    # Threshold the image to isolate black regions (rectangles)\n",
        "    _, thresh = cv2.threshold(gray, 1, 255, cv2.THRESH_BINARY)\n",
        "\n",
        "    # Find contours of black regions\n",
        "    contours, _ = cv2.findContours(thresh, cv2.RETR_EXTERNAL, cv2.CHAIN_APPROX_SIMPLE)\n",
        "\n",
        "    # Draw white rectangles on the original image\n",
        "    for contour in contours:\n",
        "        x, y, w, h = cv2.boundingRect(contour)\n",
        "        cv2.rectangle(image, (x, y), (x + w, y + h), (255, 255, 255), -1)\n",
        "\n",
        "    # Save or display the result\n",
        "    cv2.imwrite(\"image_with_white_rectangles.png\", image)\n",
        "    cv2_imshow( image)\n",
        "    cv2.waitKey(0)\n",
        "    cv2.destroyAllWindows()\n",
        "\n",
        "# Replace 'your_image_path.jpg' with the path to your actual image\n",
        "turn_rectangles_white('/content/fetal_head_binary_mask.png')\n"
      ],
      "metadata": {
        "id": "IL87beXhaM-T"
      },
      "execution_count": null,
      "outputs": []
    },
    {
      "cell_type": "code",
      "source": [
        "import cv2\n",
        "import numpy as np\n",
        "\n",
        "def create_binary_mask_for_brain(segmentation_mask_path):\n",
        "    # Load the segmentation mask\n",
        "    segmentation_mask = cv2.imread(segmentation_mask_path)\n",
        "\n",
        "    # Extract individual channels (assuming red: brain, green: LV, blue: CSP)\n",
        "    red_channel, green_channel, blue_channel = cv2.split(segmentation_mask)\n",
        "\n",
        "    # Create a binary mask for the brain (red channel)\n",
        "    brain_mask = (blue_channel > 0).astype(np.uint8) * 255\n",
        "\n",
        "    # Remove regions corresponding to LV (green channel) and CSP (blue channel)\n",
        "    brain_mask[(green_channel > 0) | (red_channel > 0)] = 255\n",
        "\n",
        "    # Save or display the resulting binary mask for the brain\n",
        "    cv2.imwrite(\"brain_binary_mask.png\", brain_mask)\n",
        "    cv2_imshow( brain_mask)\n",
        "    cv2.waitKey(0)\n",
        "    cv2.destroyAllWindows()\n",
        "\n",
        "# Replace 'your_segmentation_mask_path.png' with the path to your actual segmentation mask\n",
        "create_binary_mask_for_brain('/content/Patient00644_Plane3_3_of_3.png')\n"
      ],
      "metadata": {
        "colab": {
          "base_uri": "https://localhost:8080/",
          "height": 551
        },
        "id": "P5DEbYaneAyR",
        "outputId": "85989769-8666-4ba4-c954-79f4690eceeb"
      },
      "execution_count": 21,
      "outputs": [
        {
          "output_type": "display_data",
          "data": {
            "text/plain": [
              "<PIL.Image.Image image mode=L size=959x661>"
            ],
            "image/png": "[encoded data removed]"
          },
          "metadata": {}
        }
      ]
    },
    {
      "cell_type": "code",
      "source": [
        "segmentation_mask = cv2.imread('/content/image_with_white_rectangles.png')\n",
        "\n",
        "    # Extract individual channels (assuming red: brain, green: LV, blue: CSP)\n",
        "red_channel, green_channel, blue_channel = cv2.split(segmentation_mask)"
      ],
      "metadata": {
        "id": "2L-m3HAnegED"
      },
      "execution_count": 14,
      "outputs": []
    },
    {
      "cell_type": "code",
      "source": [
        "blue_channel>0.all( True)"
      ],
      "metadata": {
        "colab": {
          "base_uri": "https://localhost:8080/",
          "height": 141
        },
        "id": "dFMbXENVelBz",
        "outputId": "503ab343-5317-4a45-cb64-23e3a217987c"
      },
      "execution_count": 19,
      "outputs": [
        {
          "output_type": "error",
          "ename": "SyntaxError",
          "evalue": "ignored",
          "traceback": [
            "\u001b[0;36m  File \u001b[0;32m\"<ipython-input-19-14047750a9ec>\"\u001b[0;36m, line \u001b[0;32m1\u001b[0m\n\u001b[0;31m    blue_channel>0.all( True)\u001b[0m\n\u001b[0m                  ^\u001b[0m\n\u001b[0;31mSyntaxError\u001b[0m\u001b[0;31m:\u001b[0m invalid decimal literal\n"
          ]
        }
      ]
    },
    {
      "cell_type": "code",
      "execution_count": 8,
      "metadata": {
        "colab": {
          "base_uri": "https://localhost:8080/",
          "height": 551
        },
        "id": "ISQnFi1QiKoD",
        "outputId": "610a5a99-26e3-4584-bfee-325f8dd0e98c"
      },
      "outputs": [
        {
          "output_type": "display_data",
          "data": {
            "text/plain": [
              "<PIL.Image.Image image mode=L size=959x661>"
            ],
            "image/png": "[encoded data removed]"
          },
          "metadata": {}
        }
      ],
      "source": [
        "import cv2\n",
        "import numpy as np\n",
        "from google.colab.patches import cv2_imshow\n",
        "\n",
        "def create_binary_mask(image_path):\n",
        "    # Load the image\n",
        "    image = cv2.imread(image_path)\n",
        "\n",
        "    # Convert the image to HSV color space\n",
        "    hsv_image = cv2.cvtColor(image, cv2.COLOR_BGR2HSV)\n",
        "\n",
        "    # Define the color range for the fetal head (assuming red)\n",
        "    lower_red = np.array([0, 100, 100])\n",
        "    upper_red = np.array([10, 255, 255])\n",
        "\n",
        "    # Create a binary mask for the fetal head\n",
        "    fetal_head_mask = cv2.inRange(hsv_image, lower_red, upper_red)\n",
        "\n",
        "    # Define the color range for the outer blue rectangle\n",
        "    lower_blue_outer = np.array([100, 100, 100])\n",
        "    upper_blue_outer = np.array([140, 255, 255])\n",
        "\n",
        "    # Create a binary mask for the outer blue rectangle\n",
        "    blue_outer_rect_mask = cv2.inRange(hsv_image, lower_blue_outer, upper_blue_outer)\n",
        "\n",
        "    # Find contours in the outer blue rectangle mask\n",
        "    contours_outer, _ = cv2.findContours(blue_outer_rect_mask, cv2.RETR_EXTERNAL, cv2.CHAIN_APPROX_SIMPLE)\n",
        "\n",
        "    # Draw the red rectangle on a black canvas\n",
        "    red_outer_rect_mask = np.zeros_like(blue_outer_rect_mask)\n",
        "    for contour_outer in contours_outer:\n",
        "        x_outer, y_outer, w_outer, h_outer = cv2.boundingRect(contour_outer)\n",
        "        cv2.rectangle(red_outer_rect_mask, (x_outer, y_outer), (x_outer + w_outer, y_outer + h_outer), (0, 0, 255), -1)\n",
        "\n",
        "        # Define the color range for the inner yellow rectangle\n",
        "        lower_yellow_inner = np.array([20, 100, 100])\n",
        "        upper_yellow_inner = np.array([30, 255, 255])\n",
        "\n",
        "        # Create a binary mask for the inner yellow rectangle\n",
        "        yellow_inner_rect_mask = cv2.inRange(hsv_image[y_outer:y_outer+h_outer, x_outer:x_outer+w_outer], lower_yellow_inner, upper_yellow_inner)\n",
        "\n",
        "        # Combine the inner yellow rectangle mask with the outer red rectangle mask\n",
        "        red_outer_rect_mask[y_outer:y_outer+h_outer, x_outer:x_outer+w_outer] |= yellow_inner_rect_mask\n",
        "\n",
        "    # Combine the masks\n",
        "    combined_mask = fetal_head_mask | red_outer_rect_mask\n",
        "\n",
        "    # Apply morphological operations to improve the mask\n",
        "    kernel = np.ones((5, 5), np.uint8)\n",
        "    combined_mask = cv2.morphologyEx(combined_mask, cv2.MORPH_CLOSE, kernel)\n",
        "    combined_mask = cv2.morphologyEx(combined_mask, cv2.MORPH_OPEN, kernel)\n",
        "\n",
        "    # Save or display the resulting binary mask\n",
        "    cv2.imwrite(\"binary_mask.png\", combined_mask)\n",
        "    cv2_imshow( combined_mask)\n",
        "    cv2.waitKey(0)\n",
        "    cv2.destroyAllWindows()\n",
        "\n",
        "# Replace 'your_image_path.png' with the path to your actual image\n",
        "create_binary_mask('/content/3fa7aa1f-c690-4721-93ea-53692d199895.png')\n"
      ]
    },
    {
      "cell_type": "code",
      "source": [
        "from google.colab.patches import cv2_imshow"
      ],
      "metadata": {
        "id": "MxP9PgI-WQWa"
      },
      "execution_count": 1,
      "outputs": []
    },
    {
      "cell_type": "code",
      "source": [
        "import cv2\n",
        "import numpy as np\n",
        "\n",
        "def create_binary_mask_for_fetal_head(mask_path):\n",
        "    # Load the mask image\n",
        "    mask = cv2.imread(mask_path)\n",
        "\n",
        "    # Convert the image to HSV color space\n",
        "    hsv_mask = cv2.cvtColor(mask, cv2.COLOR_BGR2HSV)\n",
        "\n",
        "    # Define the color range for the fetal head (assuming red)\n",
        "    lower_red = np.array([0, 100, 100])\n",
        "    upper_red = np.array([10, 255, 255])\n",
        "\n",
        "    # Create a binary mask for the red color (fetal head)\n",
        "    fetal_head_mask = cv2.inRange(hsv_mask, lower_red, upper_red)\n",
        "\n",
        "    # Apply morphological operations to improve the mask\n",
        "    kernel = np.ones((5, 5), np.uint8)\n",
        "    fetal_head_mask = cv2.morphologyEx(fetal_head_mask, cv2.MORPH_CLOSE, kernel)\n",
        "    fetal_head_mask = cv2.morphologyEx(fetal_head_mask, cv2.MORPH_OPEN, kernel)\n",
        "\n",
        "    # Save or display the resulting binary mask for the fetal head\n",
        "    cv2.imwrite(\"fetal_head_binary_mask.png\", fetal_head_mask)\n",
        "    cv2_imshow( fetal_head_mask)\n",
        "    cv2.waitKey(0)\n",
        "    cv2.destroyAllWindows()\n",
        "\n",
        "# Replace 'your_mask_path.png' with the path to your actual mask image\n",
        "create_binary_mask_for_fetal_head('/content/Patient01161_Plane3_4_of_4.png')\n"
      ],
      "metadata": {
        "id": "9YyZSaCoVZ-h"
      },
      "execution_count": null,
      "outputs": []
    },
    {
      "cell_type": "code",
      "source": [
        "import cv2\n",
        "import numpy as np\n",
        "\n",
        "def create_binary_mask_for_brain(mask_path):\n",
        "    # Load the mask image\n",
        "    mask = cv2.imread(mask_path)\n",
        "\n",
        "    # Convert the image to HSV color space\n",
        "    hsv_mask = cv2.cvtColor(mask, cv2.COLOR_BGR2HSV)\n",
        "\n",
        "    # Define the color range for the brain (adjust these values based on your image)\n",
        "    lower_brain_color = np.array([low_hue, low_saturation, low_value])\n",
        "    upper_brain_color = np.array([high_hue, high_saturation, high_value])\n",
        "\n",
        "    # Create a binary mask for the brain\n",
        "    brain_mask = cv2.inRange(hsv_mask, lower_brain_color, upper_brain_color)\n",
        "\n",
        "    # Apply morphological operations to improve the mask\n",
        "    kernel = np.ones((5, 5), np.uint8)\n",
        "    brain_mask = cv2.morphologyEx(brain_mask, cv2.MORPH_CLOSE, kernel)\n",
        "    brain_mask = cv2.morphologyEx(brain_mask, cv2.MORPH_OPEN, kernel)\n",
        "\n",
        "    # Save or display the resulting binary mask for the brain\n",
        "    cv2.imwrite(\"brain_binary_mask.png\", brain_mask)\n",
        "    cv2_imshow(  brain_mask)\n",
        "    cv2.waitKey(0)\n",
        "    cv2.destroyAllWindows()\n",
        "\n",
        "# Replace 'your_mask_path.png' with the path to your actual mask image\n",
        "create_binary_mask_for_brain('/content/Patient01161_Plane3_4_of_4.png')\n"
      ],
      "metadata": {
        "id": "sqXm54tAWtZz"
      },
      "execution_count": null,
      "outputs": []
    },
    {
      "cell_type": "code",
      "source": [
        "import cv2\n",
        "import numpy as np\n",
        "\n",
        "def create_binary_mask_for_brain(mask_path):\n",
        "    # Load the mask image\n",
        "    mask = cv2.imread(mask_path)\n",
        "\n",
        "    # Convert the image to HSV color space\n",
        "    hsv_mask = cv2.cvtColor(mask, cv2.COLOR_BGR2HSV)\n",
        "\n",
        "    # Define the color range for the red color of the brain\n",
        "    lower_red = np.array([0, 100, 100])  # Adjust these values based on your image\n",
        "    upper_red = np.array([10, 255, 255])\n",
        "\n",
        "    # Create a binary mask for the brain\n",
        "    brain_mask = cv2.inRange(hsv_mask, lower_red, upper_red)\n",
        "\n",
        "    # Apply morphological operations to improve the mask\n",
        "    kernel = np.ones((5, 5), np.uint8)\n",
        "    brain_mask = cv2.morphologyEx(brain_mask, cv2.MORPH_CLOSE, kernel)\n",
        "    brain_mask = cv2.morphologyEx(brain_mask, cv2.MORPH_OPEN, kernel)\n",
        "\n",
        "    # Save or display the resulting binary mask for the brain\n",
        "    cv2.imwrite(\"brain_binary_mask.png\", brain_mask)\n",
        "    cv2_imshow( brain_mask)\n",
        "    cv2.waitKey(0)\n",
        "    cv2.destroyAllWindows()\n",
        "\n",
        "# Replace 'your_mask_path.png' with the path to your actual mask image\n",
        "create_binary_mask_for_brain('/content/Patient01161_Plane3_4_of_4.png')\n"
      ],
      "metadata": {
        "colab": {
          "base_uri": "https://localhost:8080/",
          "height": 551
        },
        "id": "QjesRH6qXyPX",
        "outputId": "20e9caf1-1739-4ec5-e1e0-a03df5df3013"
      },
      "execution_count": 6,
      "outputs": [
        {
          "output_type": "display_data",
          "data": {
            "text/plain": [
              "<PIL.Image.Image image mode=L size=959x661>"
            ],
            "image/png": "[encoded data removed]"
          },
          "metadata": {}
        }
      ]
    },
    {
      "cell_type": "code",
      "source": [
        "import cv2\n",
        "import numpy as np\n",
        "\n",
        "def create_binary_mask_for_brain(mask_path):\n",
        "    # Load the mask image\n",
        "    mask = cv2.imread(mask_path)\n",
        "\n",
        "    # Convert the image to HSV color space\n",
        "    hsv_mask = cv2.cvtColor(mask, cv2.COLOR_BGR2HSV)\n",
        "\n",
        "    # Define the color range for the brain (replace these values with the actual HSV values)\n",
        "    low_hue, low_saturation, low_value = 0, 0, 0\n",
        "    high_hue, high_saturation, high_value = 255, 255, 255\n",
        "\n",
        "    # Create a binary mask for the brain\n",
        "    brain_mask = cv2.inRange(hsv_mask, (low_hue, low_saturation, low_value), (high_hue, high_saturation, high_value))\n",
        "\n",
        "    # Apply morphological operations to improve the mask\n",
        "    kernel = np.ones((5, 5), np.uint8)\n",
        "    brain_mask = cv2.morphologyEx(brain_mask, cv2.MORPH_CLOSE, kernel)\n",
        "    brain_mask = cv2.morphologyEx(brain_mask, cv2.MORPH_OPEN, kernel)\n",
        "\n",
        "    # Save or display the resulting binary mask for the brain\n",
        "    cv2.imwrite(\"brain_binary_mask.png\", brain_mask)\n",
        "    cv2_imshow( brain_mask)\n",
        "    cv2.waitKey(0)\n",
        "    cv2.destroyAllWindows()\n",
        "\n",
        "# Replace 'your_mask_path.png' with the path to your actual mask image\n",
        "create_binary_mask_for_brain('/content/Patient01161_Plane3_4_of_4.png')\n"
      ],
      "metadata": {
        "colab": {
          "base_uri": "https://localhost:8080/",
          "height": 551
        },
        "id": "klwIAIblXTXl",
        "outputId": "a01ba4dc-5665-4569-8a08-ac59e6db6fa9"
      },
      "execution_count": 5,
      "outputs": [
        {
          "output_type": "display_data",
          "data": {
            "text/plain": [
              "<PIL.Image.Image image mode=L size=959x661>"
            ],
            "image/png": "[encoded data removed]"
          },
          "metadata": {}
        }
      ]
    },
    {
      "cell_type": "code",
      "source": [
        "import cv2\n",
        "import numpy as np\n",
        "\n",
        "def detect_and_color_rectangles(image_path):\n",
        "    # Read the image\n",
        "    image = cv2.imread(image_path)\n",
        "\n",
        "    # Convert the image to grayscale\n",
        "    gray = cv2.cvtColor(image, cv2.COLOR_BGR2GRAY)\n",
        "\n",
        "    # Apply GaussianBlur to reduce noise and help contour detection\n",
        "    blurred = cv2.GaussianBlur(gray, (5, 5), 0)\n",
        "\n",
        "    # Use Canny edge detection\n",
        "    edges = cv2.Canny(blurred, 50, 150)\n",
        "\n",
        "    # Find contours in the image\n",
        "    contours, _ = cv2.findContours(edges, cv2.RETR_EXTERNAL, cv2.CHAIN_APPROX_SIMPLE)\n",
        "\n",
        "    # Loop over the contours\n",
        "    for contour in contours:\n",
        "        # Approximate the contour to a polygon\n",
        "        epsilon = 0.04 * cv2.arcLength(contour, True)\n",
        "        approx = cv2.approxPolyDP(contour, epsilon, True)\n",
        "\n",
        "        # Check if the polygon has four sides (a rectangle)\n",
        "        if len(approx) == 4:\n",
        "            # Draw the rectangle on the original image\n",
        "            cv2.drawContours(image, [approx], 0, (0, 0, 255), 2)\n",
        "\n",
        "    # Display the result\n",
        "    cv2_imshow( image)\n",
        "    cv2.waitKey(0)\n",
        "    cv2.destroyAllWindows()\n",
        "\n",
        "# Replace 'your_image_path.jpg' with the path to your actual image\n",
        "detect_and_color_rectangles('/content/3fa7aa1f-c690-4721-93ea-53692d199895.png')\n"
      ],
      "metadata": {
        "id": "x6oMT_oqwsYY"
      },
      "execution_count": null,
      "outputs": []
    },
    {
      "cell_type": "code",
      "source": [
        "import cv2\n",
        "import numpy as np\n",
        "\n",
        "def detect_and_color_rectangles_within_ellipse(image_path):\n",
        "    # Read the image\n",
        "    image = cv2.imread(image_path)\n",
        "\n",
        "    # Convert the image to grayscale\n",
        "    gray = cv2.cvtColor(image, cv2.COLOR_BGR2GRAY)\n",
        "\n",
        "    # Apply GaussianBlur to reduce noise\n",
        "    blurred = cv2.GaussianBlur(gray, (5, 5), 0)\n",
        "\n",
        "    # Use HoughCircles to detect the ellipse (assuming it's a circle or ellipse)\n",
        "    circles = cv2.HoughCircles(blurred, cv2.HOUGH_GRADIENT, dp=1, minDist=20,\n",
        "                               param1=50, param2=30, minRadius=10, maxRadius=100)\n",
        "\n",
        "    if circles is not None:\n",
        "        circles = np.uint16(np.around(circles))\n",
        "        for i in circles[0, :]:\n",
        "            # Draw the ellipse (in this case, we assume it's a circle)\n",
        "            cv2.circle(image, (i[0], i[1]), i[2], (0, 0, 255), 2)\n",
        "\n",
        "            # Crop the region within the ellipse\n",
        "            x, y, r = i[0], i[1], i[2]\n",
        "            ellipse_region = image[y - r:y + r, x - r:x + r]\n",
        "\n",
        "            # Convert the region to grayscale\n",
        "            ellipse_gray = cv2.cvtColor(ellipse_region, cv2.COLOR_BGR2GRAY)\n",
        "\n",
        "            # Use contour detection to find rectangles within the ellipse\n",
        "            contours, _ = cv2.findContours(ellipse_gray, cv2.RETR_EXTERNAL, cv2.CHAIN_APPROX_SIMPLE)\n",
        "\n",
        "            # Loop over the contours\n",
        "            for contour in contours:\n",
        "                # Approximate the contour to a polygon\n",
        "                epsilon = 0.04 * cv2.arcLength(contour, True)\n",
        "                approx = cv2.approxPolyDP(contour, epsilon, True)\n",
        "\n",
        "                # Check if the polygon has four sides (a rectangle)\n",
        "                if len(approx) == 4:\n",
        "                    # Draw the rectangle on the original image\n",
        "                    cv2.drawContours(image, [approx], 0, (0, 255, 0), 2)\n",
        "\n",
        "    # Display the result\n",
        "    cv2_imshow( image)\n",
        "    cv2.waitKey(0)\n",
        "    cv2.destroyAllWindows()\n",
        "\n",
        "# Replace 'your_image_path.jpg' with the path to your actual image\n",
        "detect_and_color_rectangles_within_ellipse('/content/3fa7aa1f-c690-4721-93ea-53692d199895.png')\n"
      ],
      "metadata": {
        "colab": {
          "base_uri": "https://localhost:8080/",
          "height": 551
        },
        "id": "yloVOYhZx7z9",
        "outputId": "c00c4170-815d-4725-d101-15fe91779fce"
      },
      "execution_count": 7,
      "outputs": [
        {
          "output_type": "display_data",
          "data": {
            "text/plain": [
              "<PIL.Image.Image image mode=RGB size=959x661>"
            ],
            "image/png": "[encoded data removed]"
          },
          "metadata": {}
        }
      ]
    }
  ]
}